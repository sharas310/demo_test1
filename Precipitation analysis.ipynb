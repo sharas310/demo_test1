{
    "cells": [
        {
            "metadata": {},
            "cell_type": "markdown",
            "source": "Description"
        },
        {
            "metadata": {},
            "cell_type": "code",
            "source": "\nimport types\nimport pandas as pd\nfrom botocore.client import Config\nimport ibm_boto3\n\ndef __iter__(self): return 0\n\n# @hidden_cell\n# The following code accesses a file in your IBM Cloud Object Storage. It includes your credentials.\n# You might want to remove those credentials before you share the notebook.\nclient_5249a8eafa8f42c8a1761a947adfa31e = ibm_boto3.client(service_name='s3',\n    ibm_api_key_id='ba1jdKClQka7RrZrRjS4W7ElA3SsKJ1eOUbJlMxin8xK',\n    ibm_auth_endpoint=\"https://iam.cloud.ibm.com/oidc/token\",\n    config=Config(signature_version='oauth'),\n    endpoint_url='https://s3.eu-geo.objectstorage.service.networklayer.com')\n\nbody = client_5249a8eafa8f42c8a1761a947adfa31e.get_object(Bucket='myfirstprojekt-donotdelete-pr-zvwwjczjz61xgf',Key='MOCK_DATA.csv')['Body']\n# add missing __iter__ method, so pandas accepts body as file-like object\nif not hasattr(body, \"__iter__\"): body.__iter__ = types.MethodType( __iter__, body )\n\ndf_data_1 = pd.read_csv(body)\ndf_data_1.head()\n",
            "execution_count": 1,
            "outputs": [
                {
                    "output_type": "execute_result",
                    "execution_count": 1,
                    "data": {
                        "text/plain": "   id first_name last_name                      email gender      ip_address\n0   1  Heriberto   O'Finan   hofinan0@list-manage.com   Male  131.71.204.234\n1   2     Marlon    Dwight  mdwight1@surveymonkey.com   Male  228.119.34.115\n2   3     Hadley  Hargrove     hhargrove2@answers.com   Male  150.99.196.181\n3   4     Gordie    Divine           gdivine3@163.com   Male     89.6.168.89\n4   5   Boniface  Trahearn       btrahearn4@umich.edu   Male    140.60.23.91",
                        "text/html": "<div>\n<style scoped>\n    .dataframe tbody tr th:only-of-type {\n        vertical-align: middle;\n    }\n\n    .dataframe tbody tr th {\n        vertical-align: top;\n    }\n\n    .dataframe thead th {\n        text-align: right;\n    }\n</style>\n<table border=\"1\" class=\"dataframe\">\n  <thead>\n    <tr style=\"text-align: right;\">\n      <th></th>\n      <th>id</th>\n      <th>first_name</th>\n      <th>last_name</th>\n      <th>email</th>\n      <th>gender</th>\n      <th>ip_address</th>\n    </tr>\n  </thead>\n  <tbody>\n    <tr>\n      <th>0</th>\n      <td>1</td>\n      <td>Heriberto</td>\n      <td>O'Finan</td>\n      <td>hofinan0@list-manage.com</td>\n      <td>Male</td>\n      <td>131.71.204.234</td>\n    </tr>\n    <tr>\n      <th>1</th>\n      <td>2</td>\n      <td>Marlon</td>\n      <td>Dwight</td>\n      <td>mdwight1@surveymonkey.com</td>\n      <td>Male</td>\n      <td>228.119.34.115</td>\n    </tr>\n    <tr>\n      <th>2</th>\n      <td>3</td>\n      <td>Hadley</td>\n      <td>Hargrove</td>\n      <td>hhargrove2@answers.com</td>\n      <td>Male</td>\n      <td>150.99.196.181</td>\n    </tr>\n    <tr>\n      <th>3</th>\n      <td>4</td>\n      <td>Gordie</td>\n      <td>Divine</td>\n      <td>gdivine3@163.com</td>\n      <td>Male</td>\n      <td>89.6.168.89</td>\n    </tr>\n    <tr>\n      <th>4</th>\n      <td>5</td>\n      <td>Boniface</td>\n      <td>Trahearn</td>\n      <td>btrahearn4@umich.edu</td>\n      <td>Male</td>\n      <td>140.60.23.91</td>\n    </tr>\n  </tbody>\n</table>\n</div>"
                    },
                    "metadata": {}
                }
            ]
        },
        {
            "metadata": {},
            "cell_type": "code",
            "source": "",
            "execution_count": null,
            "outputs": []
        }
    ],
    "metadata": {
        "kernelspec": {
            "name": "python3",
            "display_name": "Python 3.6",
            "language": "python"
        },
        "language_info": {
            "name": "python",
            "version": "3.6.9",
            "mimetype": "text/x-python",
            "codemirror_mode": {
                "name": "ipython",
                "version": 3
            },
            "pygments_lexer": "ipython3",
            "nbconvert_exporter": "python",
            "file_extension": ".py"
        }
    },
    "nbformat": 4,
    "nbformat_minor": 1
}