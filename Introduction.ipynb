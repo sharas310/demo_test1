{
    "cells": [
        {
            "metadata": {},
            "cell_type": "markdown",
            "source": "<h1>Capstone Project - The Battle of Neighborhoods. Vilnius"
        },
        {
            "metadata": {
                "collapsed": true
            },
            "cell_type": "markdown",
            "source": "<h2>Introduction</h2>\n\nVilnius is a capitol of Lithuania. Is a very fast growing city. A new invester would like to open a new restaurant \nThe objective of this project is to use Foursquare location data and regional clustering of venue information to determine what might be the \u2018best\u2019 neighbourhood in Vilnius to open a restaurant.\nThrough this project, we will find the most suitable location for an entrepreneur to open a new restaurant in Vilnius, Lithuania.\n\nTarget Audience\nThis project is aimed towards Entrepreneurs or Business owners who want to open a new Restaurant or grow their current business. The analysis will provide vital information that can be used by the target audience.\n\nData Overview\nThe data that will be required will be a combination of CSV files that have been prepared for the purposes of the analysis from multiple sources which will provide the list of neighbourhoods in Vilnius (https://en.wikipedia.org/wiki/Neighborhoods_of_Vilnius), the Geographical location of the neighbourhoods (via Geocoder package) and Venue data pertaining to restaurants (via Foursquare). The Venue data will help find which neighbourhood is best suitable to open an restaurant.\n"
        },
        {
            "metadata": {},
            "cell_type": "markdown",
            "source": "<h3>Business Problem</h3>\n\nImportant questions:<br>\n\n1.Which Neighborhood is good for newcomer? <br>\n2.Which type of Restaurants is popular and which not?"
        },
        {
            "metadata": {},
            "cell_type": "markdown",
            "source": "<h3>Methodology</h3>\n\n    Business Understanding\nThe aim of this project is to find the best neighborhood of Vilnius to open a new restaurant.\n\n    Analytical Approach\nThe total number of neighborhoods in Vilnius are 21 so we need to find a way to cluster them based on their similarities, that are the number and the kind of restaurant.\nBriefly, after some steps of Data Cleaning and Data Exploration, I will use a K-Means algorithm to extract the clusters, produce a map and make an argument on the final result.\n\n    Data Exploration\nTo explore the data, I will use \u201cFolium\u201d a python library that can create interactive leaflet map using coordinate data."
        },
        {
            "metadata": {},
            "cell_type": "code",
            "source": "",
            "execution_count": null,
            "outputs": []
        }
    ],
    "metadata": {
        "kernelspec": {
            "name": "python3",
            "display_name": "Python 3.7",
            "language": "python"
        },
        "language_info": {
            "name": "python",
            "version": "3.7.9",
            "mimetype": "text/x-python",
            "codemirror_mode": {
                "name": "ipython",
                "version": 3
            },
            "pygments_lexer": "ipython3",
            "nbconvert_exporter": "python",
            "file_extension": ".py"
        }
    },
    "nbformat": 4,
    "nbformat_minor": 1
}